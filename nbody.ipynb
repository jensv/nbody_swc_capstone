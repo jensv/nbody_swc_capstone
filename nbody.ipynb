{
 "metadata": {
  "name": "",
  "signature": "sha256:d1c32f67212e87cf53f07a1dd06f99aebe9f3d5d2ff91aae1fa91ae0725d261a"
 },
 "nbformat": 3,
 "nbformat_minor": 0,
 "worksheets": [
  {
   "cells": [
    {
     "cell_type": "heading",
     "level": 1,
     "metadata": {},
     "source": [
      "N-Body Simulation Using Python"
     ]
    },
    {
     "cell_type": "markdown",
     "metadata": {},
     "source": [
      "For our first online lesson,\n",
      "we're going to explore the following:\n",
      "\n",
      "1. How to read code, and make code more readable.\n",
      "2. How to use visualization to help debug scientific code.\n",
      "3. What kinds of tests are most useful when working with scientific software.\n",
      "4. Some useful features of object-oriented programming.\n",
      "\n",
      "The example we'll use for this lesson is a (very) simple simulation of\n",
      "the orbits of the four Jovian planets around the Sun.\n",
      "Please take a few minutes before we meet online to read through this notebook with a partner,\n",
      "and answer the questions embedded in it.\n",
      "(The \"with a partner\" part is important: we'd like you to compare thoughts as you go along.)\n"
     ]
    },
    {
     "cell_type": "markdown",
     "metadata": {},
     "source": [
      "We'll start by reviewing the equations we will implement:\n",
      "\n",
      "The gravitational force between two bodies:\n",
      "$$\\vec{F} = \\frac{G m_{1} m_{2} \\vec{r}_{12} }{|\\vec{r}_{12}|^{3}}$$\n",
      "\n",
      "where $\\vec{r}_{12} = \\vec{r}_{2} - \\vec{r}_{1} $.\n",
      "\n",
      "Replacing force $F$ with change in momentum:\n",
      "$$m_{1} \\frac{d\\vec{v}_{1}}{dt} = \\frac{G m_{1}m_{2}\\vec{r}_{12}}{|\\vec{r}_{12}|^{3}}$$\n",
      "\n",
      "To intgrate these equation we will solve for $d\\vec{v}_{1}$:\n",
      "$$d\\vec{v}_{1} = \\frac{G m_{2}\\vec{r}_{12}}{|\\vec{r}_{12}|^{3}}dt $$\n",
      "\n",
      "Since we are dealing with an **N** body problem, we sum across the N planets:\n",
      "$$\\vec{v}_{1} = \\sum_{i\\neq1}^{N} \\frac{G m_{i}\\vec{r}_{1i}}{|\\vec{r}_{1i}|^{3}}dt $$\n",
      "\n",
      "A important diagnostic for our simulation will be energy conservation. The sum of potential and kinetic energies should be conserved.\n",
      "\n",
      "The total poential energy of the system is:\n",
      "$$U=\\sum_{i\\neq j}^{N} \\frac{Gm_{i}m_{j}}{|\\vec{r}_{ij}|}  $$\n",
      "\n",
      "The kinetic energy of each planet is:\n",
      "$$V=\\sum_{i}^N \\frac{m_{i}|\\vec{v}_{i}|^{2}}{2} $$\n",
      "\n",
      "Please note in the code we will set $G$ to 1 i.e. ignore it."
     ]
    },
    {
     "cell_type": "markdown",
     "metadata": {},
     "source": [
      "We'll start our program with the main function that controls everything else:"
     ]
    },
    {
     "cell_type": "code",
     "collapsed": false,
     "input": [
      "def main(bodies, timestep, num_steps):\n",
      "    '''Main driver for really simple N-body simulation.'''\n",
      "\n",
      "    # Checkpoint original energy and time.                                                                                                                                  \n",
      "    e_original = total_energy(bodies)\n",
      "    t_original = time.time()\n",
      "\n",
      "    # Evolve.                                                                                                                                                               \n",
      "    advance(timestep, num_steps, bodies)\n",
      "\n",
      "    # Get final energy and time.                                                                                                                                                             \n",
      "    t_final = time.time()\n",
      "    e_final = total_energy(bodies)\n",
      "    \n",
      "    # Report.\n",
      "    d_energy = 100 * abs((e_final - e_original) / e_original)\n",
      "    d_time = t_final - t_original\n",
      "    print 'Energy residual: %f - %f (%f %%)' % (e_final, e_original, d_energy)\n",
      "    print 'Elapsed time: %f' % d_time"
     ],
     "language": "python",
     "metadata": {},
     "outputs": [],
     "prompt_number": 1
    },
    {
     "cell_type": "markdown",
     "metadata": {},
     "source": [
      "The simulation itself will be done by a function called `advance`;\n",
      "everything else here is bookkeeping.\n",
      "What's important is that it's *readable* bookkeeping:\n",
      "even if you've never used the `time` library,\n",
      "you can probably figure out what `time.time()` does,\n",
      "and you can guess from their names what the `total_energy` function\n",
      "and the `d_energy` variable\n",
      "are for.\n",
      "\n",
      "*Question 1: do you prefer `e_original` and `e_final`, `energy_original` and `energy_final`, or `energy_i` (for \"initial\") and `energy_f`? What does your reading partner prefer?*\n",
      "\n",
      "So what's in the `advance` function?"
     ]
    },
    {
     "cell_type": "code",
     "collapsed": false,
     "input": [
      "def advance(dt, num_steps, bodies):\n",
      "    '''Advance the simulation num_steps times, in steps dt long.'''\n",
      "\n",
      "    for step in range(num_steps):\n",
      "\n",
      "        # Update velocities of bodies.                                                                                                                                      \n",
      "        for (left, right) in pairs(bodies):\n",
      "            d_pos = left.pos - right.pos\n",
      "            mag = dt * (d_pos.squared() ** -1.5)\n",
      "            left_force = left.mass * mag\n",
      "            right_force = right.mass * mag\n",
      "            left.vel -= d_pos * right_force\n",
      "            right.vel += d_pos * left_force\n",
      "\n",
      "        # Move bodies.                                                                                                                                                      \n",
      "        for b in bodies:\n",
      "            b.pos += b.vel * dt"
     ],
     "language": "python",
     "metadata": {},
     "outputs": [],
     "prompt_number": 3
    },
    {
     "cell_type": "markdown",
     "metadata": {},
     "source": [
      "The outer loop is straightforward:\n",
      "it just counts off timesteps.\n",
      "In each timestep,\n",
      "we have one block of code to figure out each body's &Delta;V,\n",
      "and another block that moves all the bodies.\n",
      "(We have to do all the &Delta;V calculations before moving anything\n",
      "so that we're taking consistent snapshots of our world.)\n",
      "\n",
      "*Question 2: do you think this would be more readable if `advance` was written as:*\n",
      "\n",
      "    def advance(dt, num_steps, bodies):\n",
      "        for step in range(num_steps):\n",
      "            for (left, right) in pairs(bodies):\n",
      "                update_velocities(left, right)\n",
      "            for b in bodies:\n",
      "                update_position(b)\n",
      "\n",
      "*i.e., if we took the inline calculations out into functions of their own?*\n",
      "\n",
      "*Question 3: do you think the velocity update calculations are correct?  Why or why not?*\n",
      "\n",
      "What *isn't* obvious here is how celestial bodies are represented.\n",
      "Inside the inner loop,\n",
      "where `left` and `right` are both celestial bodies,\n",
      "we are using their positions (as `left.pos` and `right.pos`),\n",
      "their masses (`left.mass` and `right.mass`),\n",
      "and their velocities (`left.vel` and `right.vel`)\n",
      "in various calculations.\n",
      "For the moment,\n",
      "we'll just assume that we have a way to represent and do math on vectors and scalars;\n",
      "we'll come back later and fill this in.\n",
      "\n",
      "Before we do that,\n",
      "though,\n",
      "let's fill in our other calculation function:"
     ]
    },
    {
     "cell_type": "code",
     "collapsed": false,
     "input": [
      "def total_energy(bodies):\n",
      "    '''Calculate the total potential and kinetic energy of the system.'''\n",
      "\n",
      "    energy = 0.0\n",
      "\n",
      "    # Potential energy.                                                                                                                                                     \n",
      "    for (left, right) in pairs(bodies):\n",
      "        d_pos = left.pos - right.pos\n",
      "        energy -= (left.mass * right.mass) / (d_pos.squared() ** 0.5)\n",
      "\n",
      "    # Kinetic energy.                                                                                                                                                        \n",
      "    for b in bodies:\n",
      "        energy += b.mass * b.vel.squared() / 2.0\n",
      "\n",
      "    return energy"
     ],
     "language": "python",
     "metadata": {},
     "outputs": [],
     "prompt_number": 8
    },
    {
     "cell_type": "markdown",
     "metadata": {},
     "source": [
      "Again,\n",
      "this is pretty straightforward:\n",
      "there's a loop over pairs of bodies to calculate potential energy,\n",
      "and another loop over individual bodies to calculate kinetic energy.\n",
      "\n",
      "We now have to figure out how to store celestial bodies and their vector properties.\n",
      "Bodies are easiest,\n",
      "so we'll create a class for that first:"
     ]
    },
    {
     "cell_type": "code",
     "collapsed": false,
     "input": [
      "class Body(object):\n",
      "    '''Represent a celestial body's name, mass, position, and velocity.'''\n",
      "    def __init__(self, name, mass, pos, vel):\n",
      "        self.name = name\n",
      "        self.mass = mass\n",
      "        self.pos = pos\n",
      "        self.vel = vel"
     ],
     "language": "python",
     "metadata": {},
     "outputs": [],
     "prompt_number": 9
    },
    {
     "cell_type": "markdown",
     "metadata": {},
     "source": [
      "Here,\n",
      "we've defined a class called `Body` that stores a name, a mass, a position, and a velocity.\n",
      "The specially-named *constructor* `__init__` tells Python how to initialize an object of this class.\n",
      "When we use the name of the class as if it were a function,\n",
      "like this:"
     ]
    },
    {
     "cell_type": "code",
     "collapsed": false,
     "input": [
      "example = Body('Pluto', 1.0, 100.0, 0.001)"
     ],
     "language": "python",
     "metadata": {},
     "outputs": [],
     "prompt_number": 10
    },
    {
     "cell_type": "markdown",
     "metadata": {},
     "source": [
      "Python does the following:\n",
      "\n",
      "1. Create an object without any associated data values.\n",
      "2. Call `Body.__init__` with that object as its first parameter, and `'Pluto'`, 1.0, 100.0, and 0.001 as its other parameters.\n",
      "3. Give us back the object to assign to `example` when `Body.__init__` is finished.\n",
      "\n",
      "We can check that the constructor has done its job by printing `example`'s data:"
     ]
    },
    {
     "cell_type": "code",
     "collapsed": false,
     "input": [
      "print 'example.name', example.name\n",
      "print 'example.mass', example.mass\n",
      "print 'example.pos', example.pos\n",
      "print 'example.vel', example.vel"
     ],
     "language": "python",
     "metadata": {},
     "outputs": [
      {
       "output_type": "stream",
       "stream": "stdout",
       "text": [
        "example.name Pluto\n",
        "example.mass 1.0\n",
        "example.pos 100.0\n",
        "example.vel 0.001\n"
       ]
      }
     ],
     "prompt_number": 11
    },
    {
     "cell_type": "markdown",
     "metadata": {},
     "source": [
      "This is the simplest possible use of object-oriented programming:\n",
      "all we've done is create a container for named properties,\n",
      "without any special abilities.\n",
      "\n",
      "*Question 3: inside the constructor, we use expressions like `self.mass = mass` to assign the value passed in as the parameter `mass` to the object's data member `self.mass`. Some people feel that giving constructor parameters the same names as data members helps keep them straight; other people find it confusing, and would write the constructor as:*\n",
      "\n",
      "    def __init__(self, the_name, the_mass, the_pos, the_vel):\n",
      "        self.name = the_name\n",
      "        self.mass = the_mass\n",
      "        self.pos = the_pos\n",
      "        self.vel = the_vel\n",
      "\n",
      "*Which do you find easier to read and understand?*\n",
      "\n",
      "But in our program,\n",
      "we want position and velocity to be vectors,\n",
      "not scalars,\n",
      "so we need to define another class for that.\n",
      "We also need to teach those vectors how to subtract themselves from one another,\n",
      "how to calculate dot products,\n",
      "and everything else we've been assuming so far.\n",
      "Here's what the code looks like:"
     ]
    },
    {
     "cell_type": "code",
     "collapsed": false,
     "input": [
      "class Vec3(object):\n",
      "    '''Represent a 3-vector (used for positions, velocities, etc.).'''\n",
      "\n",
      "    def __init__(self, x, y, z):\n",
      "        '''Construct vector from XYZ components.'''\n",
      "        self.x = x\n",
      "        self.y = y\n",
      "        self.z = z\n",
      "\n",
      "    def __add__(self, other):\n",
      "        '''Add with another vector, returning a new vector as result.'''\n",
      "        return Vec3(self.x + other.x, self.y + other.y, self.z + other.z)\n",
      "\n",
      "    def __sub__(self, other):\n",
      "        '''Subtract another vector, returning a new vector as result.'''\n",
      "        return Vec3(self.x - other.x, self.y - other.y, self.z - other.z)\n",
      "\n",
      "    def __mul__(self, scalar):\n",
      "        '''Multiply by scalar, returning a new vector as result.'''\n",
      "        return Vec3(self.x * scalar, self.y * scalar, self.z * scalar)\n",
      "\n",
      "    def __div__(self, scalar):\n",
      "        '''Divide by a non-zero scalar, returning a new vector as result.'''\n",
      "        return self * (1. / scalar)\n",
      "\n",
      "    def squared(self):\n",
      "\t'''Sum of squares of components.'''\n",
      "        return self.x * self.x + self.y * self.y + self.z * self.z"
     ],
     "language": "python",
     "metadata": {},
     "outputs": [],
     "prompt_number": 12
    },
    {
     "cell_type": "markdown",
     "metadata": {},
     "source": [
      "This is the most complicated piece of object-oriented code we've seen so far,\n",
      "but in fact there's only one new idea.\n",
      "When Python sees an expression like:\n",
      "\n",
      "    x + 2\n",
      "\n",
      "the first thing it does is ask the value that `x` refers to\n",
      "whether it knows how to do addition.\n",
      "The way it asks is to see if it has a method called `__add__`.\n",
      "If that's there,\n",
      "then Python lets the object handle addition itself.\n",
      "If it isn't,\n",
      "it tries to do the addition itself.\n",
      "(The real story is slightly more complicated,\n",
      "but this is the basic idea.)\n",
      "\n",
      "Similarly,\n",
      "when Python sees:\n",
      "\n",
      "    my_position = your_position * 2\n",
      "\n",
      "it asks `your_position` if it has a method called `__mul__`.\n",
      "If so,\n",
      "it calls `your_position.__mul__(2)`,\n",
      "and assigns the result to `my_position`.\n",
      "Programmers can use these specially-named methods to control how Python does array indexing,\n",
      "function calling,\n",
      "and almost everything else.\n",
      "In our case,\n",
      "we're using it to make our 3D vectors behave like real mathematical vectors.\n",
      "\n",
      "*Question 4: explain to your reading partner what methods are called when we run the code below.*\n",
      "\n",
      "    alpha = Vec3(0.0, 1.0, 2.0)\n",
      "    beta = Vec3(5.5, 6.6, 7.7)\n",
      "    gamma = alpha * 3 + beta\n",
      "\n",
      "*How many `Vec3` objects have been created in total by the time these three lines are finished?*\n",
      "\n",
      "*Question 5: why do `__add__`, `__mul__`, `__sub__`, and `__div__` create new vectors?  Why don't they just update the vector they're being called on?*\n",
      "\n",
      "*Question 6: why does `__div__` use `self * (1./scalar)` instead of `Vec3(self.x/scalar, self.y/scalar, self.z/scalar)`?*\n",
      "\n",
      "OK,\n",
      "let's do some simulation.\n",
      "We'll borrow values from the [Computer Benchmark Benchmarks Game](http://shootout.alioth.debian.org/):"
     ]
    },
    {
     "cell_type": "code",
     "collapsed": false,
     "input": [
      "from math import pi\n",
      "import time\n",
      "\n",
      "SOLAR_MASS = 4 * pi * pi\n",
      "DAYS_PER_YEAR = 365.24\n",
      "TIMESTEP = 0.01\n",
      "\n",
      "BODIES = [\n",
      "    Body('Sun',\n",
      "         SOLAR_MASS,\n",
      "         Vec3(0.0, 0.0, 0.0),\n",
      "         Vec3(0.0, 0.0, 0.0)),\n",
      "\n",
      "    Body('Jupiter',\n",
      "         9.54791938424326609e-04 * SOLAR_MASS,\n",
      "         Vec3( 4.84143144246472090e+00,\n",
      "              -1.16032004402742839e+00,\n",
      "              -1.03622044471123109e-01),\n",
      "         Vec3( 1.66007664274403694e-03 * DAYS_PER_YEAR,\n",
      "               7.69901118419740425e-03 * DAYS_PER_YEAR,\n",
      "              -6.90460016972063023e-05 * DAYS_PER_YEAR)),\n",
      "\n",
      "    Body('Saturn',\n",
      "         2.85885980666130812e-04 * SOLAR_MASS,\n",
      "         Vec3( 8.34336671824457987e+00,\n",
      "               4.12479856412430479e+00,\n",
      "              -4.03523417114321381e-01),\n",
      "         Vec3(-2.76742510726862411e-03 * DAYS_PER_YEAR,\n",
      "               4.99852801234917238e-03 * DAYS_PER_YEAR,\n",
      "               2.30417297573763929e-05 * DAYS_PER_YEAR)),\n",
      "\n",
      "    Body('Uranus',\n",
      "         4.36624404335156298e-05 * SOLAR_MASS,\n",
      "         Vec3( 1.28943695621391310e+01,\n",
      "              -1.51111514016986312e+01,\n",
      "              -2.23307578892655734e-01),\n",
      "         Vec3( 2.96460137564761618e-03 * DAYS_PER_YEAR,\n",
      "               2.37847173959480950e-03 * DAYS_PER_YEAR,\n",
      "              -2.96589568540237556e-05 * DAYS_PER_YEAR)),\n",
      "\n",
      "    Body('Neptune',\n",
      "         5.15138902046611451e-05 * SOLAR_MASS,\n",
      "         Vec3( 1.53796971148509165e+01,\n",
      "              -2.59193146099879641e+01,\n",
      "               1.79258772950371181e-01),\n",
      "         Vec3( 2.68067772490389322e-03 * DAYS_PER_YEAR,\n",
      "               1.62824170038242295e-03 * DAYS_PER_YEAR,\n",
      "              -9.51592254519715870e-05 * DAYS_PER_YEAR)),\n",
      "]"
     ],
     "language": "python",
     "metadata": {},
     "outputs": [],
     "prompt_number": 13
    },
    {
     "cell_type": "markdown",
     "metadata": {},
     "source": [
      "And as a last step,\n",
      "we'll write a function that takes a list and returns all the unique pairs of elements from it:"
     ]
    },
    {
     "cell_type": "code",
     "collapsed": false,
     "input": [
      "def pairs(vals):\n",
      "    '''Create list of all unique pairs of elements in vals.'''\n",
      "    result = []\n",
      "    for x in range(len(vals) - 1):\n",
      "        temp = vals[x+1:]\n",
      "        for y in temp:\n",
      "            result.append([vals[x], y])\n",
      "    return result"
     ],
     "language": "python",
     "metadata": {},
     "outputs": [],
     "prompt_number": 14
    },
    {
     "cell_type": "markdown",
     "metadata": {},
     "source": [
      "Here's a simple test that shows what the function does:"
     ]
    },
    {
     "cell_type": "code",
     "collapsed": false,
     "input": [
      "print pairs(['a', 'b', 'c'])"
     ],
     "language": "python",
     "metadata": {},
     "outputs": [
      {
       "output_type": "stream",
       "stream": "stdout",
       "text": [
        "[['a', 'b'], ['a', 'c'], ['b', 'c']]\n"
       ]
      }
     ],
     "prompt_number": 15
    },
    {
     "cell_type": "markdown",
     "metadata": {},
     "source": [
      "Let's run the program:"
     ]
    },
    {
     "cell_type": "code",
     "collapsed": false,
     "input": [
      "main(BODIES, TIMESTEP, 100)"
     ],
     "language": "python",
     "metadata": {},
     "outputs": [
      {
       "output_type": "stream",
       "stream": "stdout",
       "text": [
        "Energy residual: -0.169267 - -0.169290 (0.013735 %)\n",
        "Elapsed time: 0.020430\n"
       ]
      }
     ],
     "prompt_number": 16
    },
    {
     "cell_type": "markdown",
     "metadata": {},
     "source": [
      "And again for a longer period:"
     ]
    },
    {
     "cell_type": "code",
     "collapsed": false,
     "input": [
      "main(BODIES, TIMESTEP, 1000)"
     ],
     "language": "python",
     "metadata": {},
     "outputs": [
      {
       "output_type": "stream",
       "stream": "stdout",
       "text": [
        "Energy residual: -0.169297 - -0.169267 (0.018040 %)\n",
        "Elapsed time: 0.148027\n"
       ]
      }
     ],
     "prompt_number": 17
    },
    {
     "cell_type": "markdown",
     "metadata": {},
     "source": [
      "Is that right?\n",
      "The only honest answer is that we don't know.\n",
      "If we want to convince ourselves that this code is operating correctly\n",
      "(as opposed to merely not crashing)\n",
      "we have some more work to do.\n",
      "One approach is to check that important physical quantities are conserved as well as energy:\n",
      "\n",
      "*Question 7: write a function that calculates the total momentum of the bodies in the system, and see how well it is conserved for simulations of various lengths.*\n",
      "\n",
      "Another approach is visualization.\n",
      "We can use a plotting library like `matplotlib` to draw the paths traced by the planets.\n",
      "If our simulation is working correctly,\n",
      "these ought to be closed ellipses.\n",
      "\n",
      "<em>\n",
      "Question 8: pair program with your partner&mdash;four hands, one keyboard&mdash;to do the following:\n",
      "\n",
      "1. Modify `advance` to record the positions of the planets at each time step.  You can do this by creating a list and appending values to it (so that it grows bit by bit), or by figuring out in advance how many values you're going to record and creating a NumPy array of the right size (so that all the memory is allocated at once).  You can even write the coordinates to a file that you read back in later, although this will be much slower.\n",
      "2. Write a function called `draw` that plots the XY positions of the planets after the simulation has completed.  One way to do this is to create a scatter plot with dots showing the positions the planets were in at different times; another is to join up those dots with lines to create proper orbits.  Whatever kind of display you choose, you should look at what `matplotlib` and `pyplot` want as input *before* you decide how to solve part 1, so that you create data in the right format for plotting.\n",
      "\n",
      "How large or small were the changes you had to make to `advance`?\n",
      "Do the planets seem to be tracing closed paths?\n",
      "</em>"
     ]
    },
    {
     "cell_type": "code",
     "collapsed": false,
     "input": [],
     "language": "python",
     "metadata": {},
     "outputs": []
    }
   ],
   "metadata": {}
  }
 ]
}